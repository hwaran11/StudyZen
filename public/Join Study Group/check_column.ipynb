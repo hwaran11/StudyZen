{
 "cells": [
  {
   "cell_type": "code",
   "execution_count": 1,
   "metadata": {},
   "outputs": [
    {
     "name": "stdout",
     "output_type": "stream",
     "text": [
      "Index(['groupName', 'groupSize', 'interactionStyle', 'studySchedule',\n",
      "       'sessionLength', 'groupGoals', 'engagementLevel', 'leadershipStyle',\n",
      "       'groupSupport'],\n",
      "      dtype='object')\n"
     ]
    }
   ],
   "source": [
    "import pandas as pd\n",
    "from pymongo import MongoClient\n",
    "\n",
    "# Load the dataset\n",
    "file_path = 'Updated_Study_Groups_Dataset_with_Random_Names.csv'\n",
    "study_groups_df = pd.read_csv(file_path)\n",
    "\n",
    "# Print column names to verify the available columns\n",
    "print(study_groups_df.columns)\n"
   ]
  }
 ],
 "metadata": {
  "kernelspec": {
   "display_name": "myenv",
   "language": "python",
   "name": "python3"
  },
  "language_info": {
   "codemirror_mode": {
    "name": "ipython",
    "version": 3
   },
   "file_extension": ".py",
   "mimetype": "text/x-python",
   "name": "python",
   "nbconvert_exporter": "python",
   "pygments_lexer": "ipython3",
   "version": "3.10.13"
  }
 },
 "nbformat": 4,
 "nbformat_minor": 2
}
