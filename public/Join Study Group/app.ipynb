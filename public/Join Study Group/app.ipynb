{
 "cells": [
  {
   "cell_type": "code",
   "execution_count": 10,
   "metadata": {},
   "outputs": [],
   "source": [
    "from flask import Flask, request, jsonify\n",
    "from pymongo import MongoClient\n",
    "from sklearn.neighbors import NearestNeighbors\n",
    "import numpy as np"
   ]
  },
  {
   "cell_type": "code",
   "execution_count": 11,
   "metadata": {},
   "outputs": [],
   "source": [
    "app = Flask(__name__)\n",
    "\n",
    "# MongoDB connection setup\n",
    "client = MongoClient('mongodb://localhost:27017/')\n",
    "db = client['studyzen']\n",
    "collection = db['study_groups']"
   ]
  },
  {
   "cell_type": "code",
   "execution_count": 12,
   "metadata": {},
   "outputs": [],
   "source": [
    "# Define mappings\n",
    "mappings = {\n",
    "    \"group_size\": {'Small (2-4 members)': 1, 'Medium (5-8 members)': 2, 'Large (9+ members)': 3},\n",
    "    \"interaction_style\": {\n",
    "        'Informal and spontaneous discussions': 1,\n",
    "        'Structured and goal-oriented sessions': 2,\n",
    "        'Regular meetings with set agendas': 3\n",
    "    },\n",
    "    \"study_schedule\": {\n",
    "        'Early morning sessions': 1,\n",
    "        'Late morning sessions': 2,\n",
    "        'Afternoon sessions': 3,\n",
    "        'Evening sessions': 4,\n",
    "        'Flexible scheduling': 5\n",
    "    },\n",
    "    \"session_length\": {\n",
    "        'Short (30-60 minutes)': 1,\n",
    "        'Medium (1-2 hours)': 2,\n",
    "        'Long (2+ hours)': 3\n",
    "    },\n",
    "    \"engagement_level\": {\n",
    "        'Low engagement (occasional study sessions)': 1,\n",
    "        'Flexible engagement (variable based on need)': 2,\n",
    "        'Moderate engagement (few times a week)': 3,\n",
    "        'High engagement (daily sessions, active participation)': 4\n",
    "    },\n",
    "    \"leadership_style\": {\n",
    "        'No formal leader (collaborative leadership)': 1,\n",
    "        'Rotational leadership (different leaders per session)': 2,\n",
    "        'Fixed leader (one consistent leader)': 3\n",
    "    },\n",
    "    \"group_support\": {\n",
    "        'Peer accountability and motivation': 1,\n",
    "        'Academic support and tutoring': 2,\n",
    "        'Emotional support and stress management': 3\n",
    "    }\n",
    "}"
   ]
  },
  {
   "cell_type": "code",
   "execution_count": 13,
   "metadata": {},
   "outputs": [
    {
     "name": "stdout",
     "output_type": "stream",
     "text": [
      " * Serving Flask app '__main__'\n",
      " * Debug mode: on\n"
     ]
    },
    {
     "name": "stderr",
     "output_type": "stream",
     "text": [
      "WARNING: This is a development server. Do not use it in a production deployment. Use a production WSGI server instead.\n",
      " * Running on http://127.0.0.1:5000\n",
      "Press CTRL+C to quit\n",
      " * Restarting with stat\n"
     ]
    },
    {
     "ename": "SystemExit",
     "evalue": "1",
     "output_type": "error",
     "traceback": [
      "An exception has occurred, use %tb to see the full traceback.\n",
      "\u001b[1;31mSystemExit\u001b[0m\u001b[1;31m:\u001b[0m 1\n"
     ]
    }
   ],
   "source": [
    "@app.route('/recommend', methods=['POST'])\n",
    "def recommend():\n",
    "    user_preferences = request.json\n",
    "\n",
    "    # Convert user preferences to numerical form\n",
    "    user_vector = np.array([\n",
    "        mappings['group_size'][user_preferences['preferred_group_size']],\n",
    "        mappings['study_schedule'][user_preferences['preferred_study_schedule']],\n",
    "        mappings['interaction_style'][user_preferences['preferred_interaction_style']],\n",
    "        mappings['session_length'][user_preferences['preferred_study_session_length']],\n",
    "        mappings['engagement_level'][user_preferences['engagement_level']],\n",
    "        mappings['leadership_style'][user_preferences['leadership_style']],\n",
    "        mappings['group_support'][user_preferences['group_support']]\n",
    "    ]).reshape(1, -1)\n",
    "\n",
    "    # Fetch study groups from MongoDB\n",
    "    study_groups = list(collection.find({}, {'_id': 0, 'groupName': 1, 'groupSize': 1, 'studySchedule': 1,\n",
    "                                             'interactionStyle': 1, 'sessionLength': 1, 'groupGoals': 1,\n",
    "                                             'engagementLevel': 1, 'leadershipStyle': 1, 'groupSupport': 1}))\n",
    "\n",
    "    # Convert study groups to numerical form\n",
    "    study_groups_numeric = []\n",
    "    for group in study_groups:\n",
    "        study_groups_numeric.append([\n",
    "            mappings['group_size'][group['groupSize']],\n",
    "            mappings['study_schedule'][group['studySchedule']],\n",
    "            mappings['interaction_style'][group['interactionStyle']],\n",
    "            mappings['session_length'][group['sessionLength']],\n",
    "            mappings['engagement_level'][group['engagementLevel']],\n",
    "            mappings['leadership_style'][group['leadershipStyle']],\n",
    "            mappings['group_support'][group['groupSupport']]\n",
    "        ])\n",
    "    study_groups_numeric = np.array(study_groups_numeric)\n",
    "\n",
    "    # k-NN implementation\n",
    "    knn = NearestNeighbors(n_neighbors=5, metric='cosine')\n",
    "    knn.fit(study_groups_numeric)\n",
    "    distances, indices = knn.kneighbors(user_vector)\n",
    "\n",
    "    recommended_groups = [study_groups[idx] for idx in indices[0]]\n",
    "    return jsonify(recommended_groups)\n",
    "\n",
    "if __name__ == '__main__':\n",
    "    app.run(debug=True)\n"
   ]
  }
 ],
 "metadata": {
  "kernelspec": {
   "display_name": "myenv",
   "language": "python",
   "name": "python3"
  },
  "language_info": {
   "codemirror_mode": {
    "name": "ipython",
    "version": 3
   },
   "file_extension": ".py",
   "mimetype": "text/x-python",
   "name": "python",
   "nbconvert_exporter": "python",
   "pygments_lexer": "ipython3",
   "version": "3.10.13"
  }
 },
 "nbformat": 4,
 "nbformat_minor": 2
}
