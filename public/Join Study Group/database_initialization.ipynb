{
 "cells": [
  {
   "cell_type": "code",
   "execution_count": 5,
   "metadata": {},
   "outputs": [],
   "source": [
    "import pandas as pd\n",
    "from pymongo import MongoClient\n"
   ]
  },
  {
   "cell_type": "code",
   "execution_count": 7,
   "metadata": {},
   "outputs": [],
   "source": [
    "# Load the dataset\n",
    "file_path = 'Updated_Study_Groups_Dataset_with_Random_Names.csv'\n",
    "study_groups_df = pd.read_csv(file_path)\n"
   ]
  },
  {
   "cell_type": "code",
   "execution_count": 8,
   "metadata": {},
   "outputs": [],
   "source": [
    "# MongoDB connection setup\n",
    "client = MongoClient('mongodb://localhost:27017/')\n",
    "db = client['studyzen']\n",
    "collection = db['study_groups']\n",
    "\n",
    "# Drop existing collection if any\n",
    "collection.drop()\n"
   ]
  },
  {
   "cell_type": "code",
   "execution_count": 9,
   "metadata": {},
   "outputs": [
    {
     "name": "stdout",
     "output_type": "stream",
     "text": [
      "Database initialized successfully\n"
     ]
    }
   ],
   "source": [
    "# Define mappings\n",
    "mappings = {\n",
    "    \"group_size\": {'Small (2-4 members)': 1, 'Medium (5-8 members)': 2, 'Large (9+ members)': 3},\n",
    "    \"interaction_style\": {\n",
    "        'Informal and spontaneous discussions': 1,\n",
    "        'Structured and goal-oriented sessions': 2,\n",
    "        'Regular meetings with set agendas': 3\n",
    "    },\n",
    "    \"study_schedule\": {\n",
    "        'Early morning sessions': 1,\n",
    "        'Late morning sessions': 2,\n",
    "        'Afternoon sessions': 3,\n",
    "        'Evening sessions': 4,\n",
    "        'Flexible scheduling': 5\n",
    "    },\n",
    "    \"session_length\": {\n",
    "        'Short (30-60 minutes)': 1,\n",
    "        'Medium (1-2 hours)': 2,\n",
    "        'Long (2+ hours)': 3\n",
    "    },\n",
    "    \"engagement_level\": {\n",
    "        'Low engagement (occasional study sessions)': 1,\n",
    "        'Flexible engagement (variable based on need)': 2,\n",
    "        'Moderate engagement (few times a week)': 3,\n",
    "        'High engagement (daily sessions, active participation)': 4\n",
    "    },\n",
    "    \"leadership_style\": {\n",
    "        'No formal leader (collaborative leadership)': 1,\n",
    "        'Rotational leadership (different leaders per session)': 2,\n",
    "        'Fixed leader (one consistent leader)': 3\n",
    "    },\n",
    "    \"group_support\": {\n",
    "        'Peer accountability and motivation': 1,\n",
    "        'Academic support and tutoring': 2,\n",
    "        'Emotional support and stress management': 3\n",
    "    }\n",
    "}\n",
    "\n",
    "# Insert data into MongoDB\n",
    "for index, row in study_groups_df.iterrows():\n",
    "    group_data = {\n",
    "        'groupName': row['groupName'],\n",
    "        'groupSize': row['groupSize'],\n",
    "        'studySchedule': row['studySchedule'],\n",
    "        'interactionStyle': row['interactionStyle'],\n",
    "        'sessionLength': row['sessionLength'],\n",
    "        'groupGoals': row['groupGoals'],\n",
    "        'engagementLevel': row['engagementLevel'],\n",
    "        'leadershipStyle': row['leadershipStyle'],\n",
    "        'groupSupport': row['groupSupport']\n",
    "    }\n",
    "    collection.insert_one(group_data)\n",
    "\n",
    "print(\"Database initialized successfully\")"
   ]
  }
 ],
 "metadata": {
  "kernelspec": {
   "display_name": "myenv",
   "language": "python",
   "name": "python3"
  },
  "language_info": {
   "codemirror_mode": {
    "name": "ipython",
    "version": 3
   },
   "file_extension": ".py",
   "mimetype": "text/x-python",
   "name": "python",
   "nbconvert_exporter": "python",
   "pygments_lexer": "ipython3",
   "version": "3.10.13"
  }
 },
 "nbformat": 4,
 "nbformat_minor": 2
}
